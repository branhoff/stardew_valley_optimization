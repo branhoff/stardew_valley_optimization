{
 "cells": [
  {
   "cell_type": "markdown",
   "metadata": {},
   "source": [
    "##### Short Version\n",
    "\n",
    "Stardew Valley is an ingenious little \"farming simulator\" among many other things.. In order to maximize my profits, I want to calculate the compound return of crops where you buy seeds, harvest crops over a certain duration, sell those crops and reinvest the earnings into more seeds.\n",
    "\n",
    "There are two types of crops (broadly) so I've written two subclasses to take in these different types of crops and calculate a compound calculation."
   ]
  },
  {
   "cell_type": "markdown",
   "metadata": {},
   "source": [
    "##### Long Version\n",
    "I've decided to write a class to help me in a goofy little video game I like to play, Stardew Valley. Stardew Valley is a simple little \"farming\" simulation game in the vein of Harvest Moon. That's putting it simplistically... but this isn't Stardew Apologetics. Wikipedia can explain it better than me: https://en.wikipedia.org/wiki/Stardew_Valley\n",
    "\n",
    "One of the primary features of this game is (obviously) farming. You can buy seeds for a variety of crops and plant them with various different growth rates and then sell them at different prices. Being the sort of perfectionist I am at these kinds of silly, resource building games I immediatley wanted to maximize my revenue.\n",
    "\n",
    "Looking online, I immediately understood from the sites I was visiting that these authors really didn't understand the idea of compounding. When trying to find recommendations on crops during different seasons to focus on to make the most money, all of the articles I read evaluated crops in terms of \"coins per day\". Essentially, if something like (price-cost)/growth. This sounds right for most people, but I knew immediatley that a better model would be a compounding return model. Essentially, it relates to that old riddle you might have heard when you were a kid: \"Would you rather have a million dollars a day, or have a penny double every day for a month\". And if anyone does the map, despite that a penny doubling doesn't seem like it would get very far any time soon, you'll quickly realize how quickly it adds up, easily dwarfing a million dollars.\n",
    "\n",
    "So naturally, I knew that it wasn't simple enough to evaluate crops from a \"earnings per day\" method when you can reinvest those earnings for duration of 28 days. So I wanted to calculate what that would be for every crop to make an informed decision on which crop to invest in. But, since this is a little made up world, I had to write very specific rules other than the standard compounding formula (which would be easy to write a function for).\n",
    "\n",
    "There are some fundamentals of the game that make calulating the growth rate of your reinvetestment more complex. For isntance, if the shop is closed, you won't be able to purchase the seeds with the proceeds from your last harvest. So, we'll need a way to calculate what the return will be if your purchase of seeds is delayed by the number of days the shop is closed. Also, there are only real numbers in this game. So we'll need to track remainders left when we try to reinvest our proceeds into seeds that are not without a common factor.\n",
    "\n",
    "Finally, the last challenge we have in modeling our Crop investing is that there are two different types of crops that effect this class. Firstly, some crops have a set growth duration. Meaning than if you plant them on x day, they will yield a crop x + n days and then the crop terminates at harvest. These types of crops are what I call \"nonrenewable\". You plant them, you harvest them, and then you must replant them with the proceeds from your harvest. However, some crops are what I call \"renewable\"; they continue to produce on a defined cycle without having to be replanted. They always have long intial durations for the first harvest, and then have shorter durations for every subsequent harvest."
   ]
  },
  {
   "cell_type": "code",
   "execution_count": 11,
   "metadata": {},
   "outputs": [],
   "source": [
    "class Crop:\n",
    "    \n",
    "    season_duration = 28\n",
    "    \n",
    "    def __init__(self, crop, cost, sell_price, growth_duration, intial_grow=None):\n",
    "        self.crop = crop\n",
    "        self.cost = cost\n",
    "        self.sell_price = sell_price\n",
    "        self.growth_duration = growth_duration\n",
    "        self.intial_grow = intial_grow\n",
    "    \n",
    "    def get_crop(self):\n",
    "        return self.crop\n",
    "    \n",
    "    def get_cost(self):\n",
    "        return self.cost\n",
    "    \n",
    "    def get_sell_price(self):\n",
    "        return self.sell_price\n",
    "    \n",
    "    def get_growth_duration(self):\n",
    "        return self.growth_duration\n",
    "    \n",
    "    def get_intial_grow(self):\n",
    "        return self.intial_grow\n",
    "            \n",
    "    def shop_closed(self, start=0):\n",
    "        end = Crop.season_duration\n",
    "        \n",
    "        return [x + 1 for x in range(start-1,end) if (x + 1) % 7 == 3]\n",
    "    \n",
    "\n",
    "class NonRenewCrop(Crop):\n",
    "        \n",
    "    def __init__(self, crop, cost, sell_price, growth_duration):\n",
    "        super().__init__(crop, cost, sell_price, growth_duration)\n",
    "\n",
    "        self.leftover_days = Crop.season_duration % self.growth_duration\n",
    "        self.harvest_count = int((Crop.season_duration - self.leftover_days) / self.growth_duration + 1)\n",
    "        \n",
    "    def pay_days(self, start=1):\n",
    "        end = Crop.season_duration\n",
    "        \n",
    "        isharvest = lambda x: x % (self.growth_duration + 1) == 0\n",
    "        isclosed = lambda x: x % 7 == 3\n",
    "        \n",
    "        return [x+start-1 if isharvest(x) and not isclosed(x+1) else x+start for x in range(start,end+1) if isharvest(x)]        \n",
    "\n",
    "    def compound(self, account=500):\n",
    "        for x in self.pay_days():\n",
    "            remainder = account % self.cost\n",
    "            revenue = ((account - (remainder))/self.cost)*self.sell_price\n",
    "            account = revenue + remainder\n",
    "            \n",
    "        return account\n",
    "    \n",
    "    def harvest(self):\n",
    "        print(self.period)\n",
    "        print(self.harvest_count)\n",
    "\n",
    "class RenewCrop(Crop):\n",
    "        \n",
    "    def __init__(self, crop, cost, sell_price, growth_duration, intial_grow):\n",
    "        super().__init__(crop, cost, sell_price, growth_duration, intial_grow)\n",
    "\n",
    "        self.leftover_days = Crop.season_duration % self.growth_duration\n",
    "        self.harvest_count = int((Crop.season_duration - self.leftover_days) / self.growth_duration + 1)\n",
    "        \n",
    "    def compound(self, account=500):\n",
    "        for x in \n",
    "        \n",
    "        pass\n"
   ]
  },
  {
   "cell_type": "code",
   "execution_count": 12,
   "metadata": {},
   "outputs": [],
   "source": [
    "renewable_crops = [['Parsnip', 20, 35, 4], \n",
    "                   ['Potato', 50, 100, 6], \n",
    "                   ['Cauliflower', 80, 175, 12], \n",
    "                   ['Kale', 70, 110, 6],\n",
    "                   ['Garlic', 40, 60, 4]]"
   ]
  },
  {
   "cell_type": "code",
   "execution_count": 13,
   "metadata": {},
   "outputs": [
    {
     "name": "stdout",
     "output_type": "stream",
     "text": [
      "Parsnip 8135.0\n",
      "Potato 8000.0\n",
      "Cauliflower 2305.0\n",
      "Kale 2980.0\n",
      "Garlic 3680.0\n"
     ]
    }
   ],
   "source": [
    "for crop in renewable_crops:\n",
    "    crop = NonRenewCrop(crop[0],crop[1],crop[2],crop[3])\n",
    "    print(crop.crop, crop.compound())\n",
    "    "
   ]
  },
  {
   "cell_type": "markdown",
   "metadata": {},
   "source": [
    "Despite the Internet's love of the Potato, from a compound perspective, Parsnips are better for an overall return since their growth_duration (therefore the reinvestment cycle) is shorter."
   ]
  },
  {
   "cell_type": "code",
   "execution_count": 14,
   "metadata": {},
   "outputs": [
    {
     "name": "stdout",
     "output_type": "stream",
     "text": [
      "Green Bean None\n",
      "Blueberries None\n",
      "Hops None\n",
      "Hot Pepper None\n",
      "Tomato None\n",
      "Corn None\n"
     ]
    }
   ],
   "source": [
    "nonrenewable_crops = [['Green Bean', 60, 40, 3, 10],\n",
    "                      ['Blueberries', 80, 240, 4, 13],\n",
    "                      ['Hops', 60, 25, 11, 1],\n",
    "                      ['Hot Pepper', 40, 40, 3, 5],\n",
    "                      ['Tomato', 50, 60, 4, 11],\n",
    "                      ['Corn', 150, 50, 4, 14],\n",
    "                     ]\n",
    "\n",
    "for crop in nonrenewable_crops:\n",
    "    crop = RenewCrop(crop[0],crop[1],crop[2],crop[3],crop[4])\n",
    "    print(crop.crop, crop.compound())\n",
    "                     "
   ]
  },
  {
   "cell_type": "code",
   "execution_count": 18,
   "metadata": {},
   "outputs": [
    {
     "data": {
      "text/plain": [
       "[3, 10, 17, 24]"
      ]
     },
     "execution_count": 18,
     "metadata": {},
     "output_type": "execute_result"
    }
   ],
   "source": [
    "crop = NonRenewCrop(renewable_crops[0][0], renewable_crops[0][1], renewable_crops[0][2], renewable_crops[0][3])\n",
    "\n",
    "crop.shop_closed()"
   ]
  },
  {
   "cell_type": "code",
   "execution_count": null,
   "metadata": {},
   "outputs": [],
   "source": []
  }
 ],
 "metadata": {
  "kernelspec": {
   "display_name": "Python 3",
   "language": "python",
   "name": "python3"
  },
  "language_info": {
   "codemirror_mode": {
    "name": "ipython",
    "version": 3
   },
   "file_extension": ".py",
   "mimetype": "text/x-python",
   "name": "python",
   "nbconvert_exporter": "python",
   "pygments_lexer": "ipython3",
   "version": "3.8.2"
  }
 },
 "nbformat": 4,
 "nbformat_minor": 2
}
